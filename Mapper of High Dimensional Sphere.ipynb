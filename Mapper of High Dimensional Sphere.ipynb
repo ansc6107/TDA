{
 "cells": [
  {
   "cell_type": "code",
   "execution_count": 1,
   "id": "5c2f5621",
   "metadata": {},
   "outputs": [],
   "source": [
    "import numpy as np\n",
    "import pandas as pd\n",
    "import matplotlib.pyplot as plt\n",
    "from mpl_toolkits import mplot3d\n",
    "\n",
    "import sklearn\n",
    "from sklearn.preprocessing import MinMaxScaler\n",
    "from scipy.spatial import distance_matrix\n",
    "\n",
    "import kmapper as km\n",
    "from kmapper.plotlyviz import *\n",
    "from kmapper import jupyter\n",
    "import networkx as nx\n",
    "\n",
    "\n",
    "from sklearn.cluster import DBSCAN\n",
    "from sklearn.decomposition import PCA"
   ]
  },
  {
   "cell_type": "code",
   "execution_count": 2,
   "id": "391db482",
   "metadata": {},
   "outputs": [],
   "source": [
    "def sphere_samples(d, m):\n",
    "    \"\"\"d: dimension of sphere, m: number of samples\n",
    "    returns np array with m points normaly distributed\n",
    "    \"\"\"\n",
    "    sample = np.random.normal(0,1,(m,d))\n",
    "    normalize = lambda x: x/np.linalg.norm(x)\n",
    "    normalized = np.apply_along_axis(normalize, 1, sample)\n",
    "    return normalized"
   ]
  },
  {
   "cell_type": "markdown",
   "id": "2fce8ef4",
   "metadata": {},
   "source": [
    "# Mapper of Circle"
   ]
  },
  {
   "cell_type": "code",
   "execution_count": 3,
   "id": "1286d9b3",
   "metadata": {},
   "outputs": [],
   "source": [
    "data = sphere_samples(2,500)"
   ]
  },
  {
   "cell_type": "code",
   "execution_count": 4,
   "id": "fef0e0fb",
   "metadata": {},
   "outputs": [
    {
     "data": {
      "image/png": "[encoded data removed]",
      "text/plain": [
       "<Figure size 720x720 with 1 Axes>"
      ]
     },
     "metadata": {
      "needs_background": "light"
     },
     "output_type": "display_data"
    }
   ],
   "source": [
    "#plotting the data to get the alien\n",
    "x = data[:,0]\n",
    "y = data[:,1]\n",
    "#z = data[:,2]\n",
    "\n",
    "fig = plt.figure(figsize = (10,10))\n",
    "ax = fig.add_subplot(111)\n",
    "\n",
    "ax.scatter(x,y, s=1)\n",
    "#ax.view_init(5, -70)\n",
    "plt.show()"
   ]
  },
  {
   "cell_type": "code",
   "execution_count": 5,
   "id": "c9630b2a",
   "metadata": {},
   "outputs": [
    {
     "data": {
      "text/html": [
       "<style>\n",
       "        .container { width:100% !important; }\n",
       "        .output_scroll {height: 800px !important;}\n",
       "        </style>"
      ],
      "text/plain": [
       "<IPython.core.display.HTML object>"
      ]
     },
     "metadata": {},
     "output_type": "display_data"
    },
    {
     "name": "stderr",
     "output_type": "stream",
     "text": [
      "/Users/camilomesa/opt/anaconda3/lib/python3.8/site-packages/IPython/core/display.py:717: UserWarning: Consider using IPython.display.IFrame instead\n",
      "  warnings.warn(\"Consider using IPython.display.IFrame instead\")\n"
     ]
    },
    {
     "data": {
      "text/html": [
       "<iframe src=sphere.html width=100%% height=800 frameBorder=\"0\"></iframe>"
      ],
      "text/plain": [
       "<IPython.core.display.HTML object>"
      ]
     },
     "metadata": {},
     "output_type": "display_data"
    }
   ],
   "source": [
    "#initiate the mapper object\n",
    "mapper = km.KeplerMapper(verbose = 0)\n",
    "\n",
    "#define the filter\n",
    "lens = mapper.fit_transform(data, projection = [0,1])\n",
    "\n",
    "# Define the simplicial complex using different parameters. Note that\n",
    "graph = mapper.map(lens,\n",
    "                   data,\n",
    "                   cover = km.Cover(n_cubes=5, perc_overlap=0.55),\n",
    "                   clusterer=sklearn.cluster.KMeans(n_clusters=2,\n",
    "                                                       random_state=3471))\n",
    "\n",
    "# Visualize it\n",
    "html = mapper.visualize(graph, \n",
    "                        color_values= data[:,1],\n",
    "                        color_function_name = 'height',\n",
    "                        node_color_function = ['median', 'max', 'average'], \n",
    "                        path_html=\"sphere.html\",\n",
    "                        title=\"Sphere\")\n",
    "\n",
    "# Inline display\n",
    "jupyter.display(path_html=\"sphere.html\")"
   ]
  },
  {
   "cell_type": "markdown",
   "id": "70c61021",
   "metadata": {},
   "source": [
    "# 4-dimensional sphere"
   ]
  },
  {
   "cell_type": "code",
   "execution_count": 7,
   "id": "deef9562",
   "metadata": {},
   "outputs": [],
   "source": [
    "fourd_sphere = sphere_samples(4,500)"
   ]
  },
  {
   "cell_type": "code",
   "execution_count": 12,
   "id": "caa05632",
   "metadata": {},
   "outputs": [
    {
     "data": {
      "text/html": [
       "<style>\n",
       "        .container { width:100% !important; }\n",
       "        .output_scroll {height: 800px !important;}\n",
       "        </style>"
      ],
      "text/plain": [
       "<IPython.core.display.HTML object>"
      ]
     },
     "metadata": {},
     "output_type": "display_data"
    },
    {
     "name": "stderr",
     "output_type": "stream",
     "text": [
      "/Users/camilomesa/opt/anaconda3/lib/python3.8/site-packages/IPython/core/display.py:717: UserWarning: Consider using IPython.display.IFrame instead\n",
      "  warnings.warn(\"Consider using IPython.display.IFrame instead\")\n"
     ]
    },
    {
     "data": {
      "text/html": [
       "<iframe src=4dsphere.html width=100%% height=800 frameBorder=\"0\"></iframe>"
      ],
      "text/plain": [
       "<IPython.core.display.HTML object>"
      ]
     },
     "metadata": {},
     "output_type": "display_data"
    }
   ],
   "source": [
    "#initiate the mapper object\n",
    "mapper4d = km.KeplerMapper(verbose = 0)\n",
    "\n",
    "#define the filter\n",
    "lens4d = mapper.fit_transform(fourd_sphere, projection = [0,1])\n",
    "\n",
    "# Define the simplicial complex using different parameters. Note that\n",
    "graph4d = mapper.map(lens4d,\n",
    "                   fourd_sphere,\n",
    "                   cover = km.Cover(n_cubes=5, perc_overlap=0.55),\n",
    "                   clusterer=sklearn.cluster.KMeans(n_clusters=2,\n",
    "                                                       random_state=3471))\n",
    "\n",
    "# Visualize it\n",
    "html = mapper.visualize(graph4d, \n",
    "                        color_values= fourd_sphere[:,3],\n",
    "                        color_function_name = 'height',\n",
    "                        node_color_function = ['median', 'max', 'average'], \n",
    "                        path_html=\"4dsphere.html\",\n",
    "                        title=\"4dSphere\")\n",
    "\n",
    "# Inline display\n",
    "jupyter.display(path_html=\"4dsphere.html\")"
   ]
  },
  {
   "cell_type": "code",
   "execution_count": null,
   "id": "25bad204",
   "metadata": {},
   "outputs": [],
   "source": []
  }
 ],
 "metadata": {
  "kernelspec": {
   "display_name": "Python 3",
   "language": "python",
   "name": "python3"
  },
  "language_info": {
   "codemirror_mode": {
    "name": "ipython",
    "version": 3
   },
   "file_extension": ".py",
   "mimetype": "text/x-python",
   "name": "python",
   "nbconvert_exporter": "python",
   "pygments_lexer": "ipython3",
   "version": "3.8.8"
  }
 },
 "nbformat": 4,
 "nbformat_minor": 5
}
