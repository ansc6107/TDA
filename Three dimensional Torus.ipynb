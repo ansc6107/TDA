{
 "cells": [
  {
   "cell_type": "code",
   "execution_count": 1,
   "id": "c94bedc5",
   "metadata": {},
   "outputs": [],
   "source": [
    "import sys\n",
    "import pandas as pd\n",
    "import numpy as np\n",
    "import sklearn\n",
    "from sklearn import ensemble\n",
    "import kmapper as km\n",
    "from kmapper.plotlyviz import *\n",
    "from sklearn.decomposition import PCA\n",
    "import matplotlib.pyplot as plt\n",
    "from kmapper import jupyter\n",
    "\n",
    "import warnings\n",
    "warnings.filterwarnings(\"ignore\")"
   ]
  },
  {
   "cell_type": "code",
   "execution_count": 2,
   "id": "8f5775ce",
   "metadata": {},
   "outputs": [],
   "source": [
    "import kmapper as km\n",
    "from kmapper import jupyter \n",
    "from kmapper.plotlyviz import *\n",
    "import networkx as nx\n",
    "import numpy as np\n",
    "import sklearn\n",
    "import matplotlib.pyplot as plt\n",
    "from mpl_toolkits.mplot3d import Axes3D \n",
    "from operator import itemgetter "
   ]
  },
  {
   "cell_type": "markdown",
   "id": "64e20ea7",
   "metadata": {},
   "source": [
    "# Torus Sampling"
   ]
  },
  {
   "cell_type": "code",
   "execution_count": 3,
   "id": "57891459",
   "metadata": {},
   "outputs": [],
   "source": [
    "class Sampler():\n",
    "\n",
    "    def __init__(self):\n",
    "        raise NotImplemented()\n",
    "\n",
    "    def Sample(self, n):\n",
    "        raise NotImplemented()"
   ]
  },
  {
   "cell_type": "markdown",
   "id": "578fa03d",
   "metadata": {},
   "source": [
    "The following takes a uniform sample of the three dimensional torus $S^1 \\times S^1 \\times S^1$ using a parametrization of the torus."
   ]
  },
  {
   "cell_type": "code",
   "execution_count": 4,
   "id": "c192ce51",
   "metadata": {},
   "outputs": [],
   "source": [
    "class ThreeDTorusSampler(Sampler):\n",
    "\n",
    "    def __init__(self, r=1, R=3, x0=0, y0=0, z0=0, w0=0):\n",
    "        \"r: radius of the tube\"\n",
    "        \"R: radius from the center of the hole to the center of the torus tube\"\n",
    "        \"(x_0, y_0,z_0, w_0) center of the torus\"\n",
    "        self._r = r\n",
    "        self._R = R\n",
    "        self._x0 = x0\n",
    "        self._y0 = y0\n",
    "        self._z0 = z0\n",
    "        self._w0 = w0\n",
    "    \n",
    "\n",
    "    def Sample(self, n):\n",
    "        u = 2 * np.pi * np.random.uniform(0,1.0001,n)\n",
    "        v = 2 * np.pi * np.random.uniform(0,1.0001,n)\n",
    "        t = 2 * np.pi * np.random.uniform(0,1.0001,n)\n",
    "\n",
    "        cosu = np.cos(u)\n",
    "        sinu = np.sin(u)\n",
    "\n",
    "        cosv = np.cos(v)\n",
    "        sinv = np.sin(v)\n",
    "        \n",
    "        cost = np.cos(t)\n",
    "        sint = np.sin(t)\n",
    "\n",
    "        x = self._x0 + (self._R + self._r * cosu) * cosv\n",
    "        y = self._y0 + (self._R + self._r * cosu) * sinv\n",
    "        z = self._z0 + (self._R + self._r * sinu) * cost\n",
    "        w = self._w0 + (self._R + self._r * sinu) * sint\n",
    "\n",
    "        return np.array([x, y, z, w]).T"
   ]
  },
  {
   "cell_type": "code",
   "execution_count": 5,
   "id": "077e6c9c",
   "metadata": {},
   "outputs": [],
   "source": [
    "SAMPLE_SIZE = 15000\n",
    "toro = np.vstack((ThreeDTorusSampler(R=5).Sample(SAMPLE_SIZE)))"
   ]
  },
  {
   "cell_type": "code",
   "execution_count": 6,
   "id": "4d36d7ae",
   "metadata": {},
   "outputs": [
    {
     "data": {
      "text/plain": [
       "array([[-5.24615013, -0.89184075, -5.00606323,  3.21020288],\n",
       "       [-1.24807041, -5.76499924,  1.77853194,  5.13985761],\n",
       "       [-0.51682148, -5.92344488, -0.22007238,  5.31976673],\n",
       "       ...,\n",
       "       [-3.81367146, -4.45023731,  3.62693492, -2.64850466],\n",
       "       [-1.92718747,  4.00371887, -3.34141488, -2.4934572 ],\n",
       "       [ 5.38039832, -1.34386935,  1.43375294,  3.90726252]])"
      ]
     },
     "execution_count": 6,
     "metadata": {},
     "output_type": "execute_result"
    }
   ],
   "source": [
    "toro"
   ]
  },
  {
   "cell_type": "code",
   "execution_count": 7,
   "id": "43cd5351",
   "metadata": {},
   "outputs": [],
   "source": [
    "#toro2 = np.vstack((TorusSampler(.2, 1.8, -2, 0, 0).Sample(SAMPLE_SIZE)))\n",
    "#toro = np.vstack((toro1, toro2))\n",
    "#X = list( map(itemgetter(0), toro ))\n",
    "#Y = list( map(itemgetter(1), toro )) \n",
    "#Z = list( map(itemgetter(2), toro ))\n",
    "#W = list( map(itemgetter(3), toro ))"
   ]
  },
  {
   "cell_type": "markdown",
   "id": "85424470",
   "metadata": {},
   "source": [
    "# Mapper with different choice of clusterer and overlap percentage"
   ]
  },
  {
   "cell_type": "code",
   "execution_count": 12,
   "id": "7f5a3895",
   "metadata": {
    "scrolled": true
   },
   "outputs": [
    {
     "data": {
      "text/html": [
       "<style>\n",
       "        .container { width:100% !important; }\n",
       "        .output_scroll {height: 800px !important;}\n",
       "        </style>"
      ],
      "text/plain": [
       "<IPython.core.display.HTML object>"
      ]
     },
     "metadata": {},
     "output_type": "display_data"
    },
    {
     "data": {
      "text/html": [
       "<iframe src=3dTori.html width=100%% height=800 frameBorder=\"0\"></iframe>"
      ],
      "text/plain": [
       "<IPython.core.display.HTML object>"
      ]
     },
     "metadata": {},
     "output_type": "display_data"
    }
   ],
   "source": [
    "#initiate the mapper object and lens the first two coordinates\n",
    "mapper = km.KeplerMapper(verbose = 0)\n",
    "height = mapper.fit_transform(toro, projection = [0])\n",
    "lens = mapper.fit_transform(toro, projection = [0,1])\n",
    "\n",
    "\n",
    "# Define the simplicial complex using different parameters like lens, cover, and clusterer\n",
    "scomplex = mapper.map(lens,\n",
    "                      toro,\n",
    "                      cover=km.Cover(n_cubes=5, perc_overlap=0.3),\n",
    "                      clusterer=sklearn.cluster.KMeans(n_clusters=2,\n",
    "                                                       random_state=3471))\n",
    "\n",
    "# Visualize it\n",
    "html = mapper.visualize(scomplex,\n",
    "                        color_values= height,\n",
    "                        color_function_name = 'height',\n",
    "                        node_color_function = ['median', 'max', 'average'], \n",
    "                        path_html=\"3dTori.html\",\n",
    "                 title=\"3dTori\")\n",
    "\n",
    "# Inline display\n",
    "# jupyter.display(path_html=\"http://mlwave.github.io/tda/word2vec-gender-bias.html\")\n",
    "jupyter.display(path_html=\"3dTori.html\")"
   ]
  },
  {
   "cell_type": "code",
   "execution_count": 14,
   "id": "5017fdb5",
   "metadata": {},
   "outputs": [
    {
     "data": {
      "text/html": [
       "<style>\n",
       "        .container { width:100% !important; }\n",
       "        .output_scroll {height: 800px !important;}\n",
       "        </style>"
      ],
      "text/plain": [
       "<IPython.core.display.HTML object>"
      ]
     },
     "metadata": {},
     "output_type": "display_data"
    },
    {
     "data": {
      "text/html": [
       "<iframe src=3dTori.html width=100%% height=800 frameBorder=\"0\"></iframe>"
      ],
      "text/plain": [
       "<IPython.core.display.HTML object>"
      ]
     },
     "metadata": {},
     "output_type": "display_data"
    }
   ],
   "source": [
    "#initiate the mapper object and lens the first two coordinates\n",
    "mapper = km.KeplerMapper(verbose = 0)\n",
    "lens = mapper.fit_transform(toro, projection = [0,1])\n",
    "height = mapper.fit_transform(toro, projection = [2])\n",
    "\n",
    "\n",
    "# Define the simplicial complex\n",
    "scomplex = mapper.map(lens,\n",
    "                      toro,\n",
    "                      cover=km.Cover(n_cubes=5, perc_overlap=0.5),\n",
    "                      clusterer=sklearn.cluster.KMeans(n_clusters=5,\n",
    "                                                       random_state=3471))\n",
    "\n",
    "# Visualize it\n",
    "html = mapper.visualize(scomplex, path_html=\"3dTori.html\",\n",
    "                        color_values= height,\n",
    "                        color_function_name = 'height',\n",
    "                        node_color_function = ['median', 'max', 'average'], \n",
    "                 title=\"3dTori\")\n",
    "\n",
    "# Inline display\n",
    "# jupyter.display(path_html=\"http://mlwave.github.io/tda/word2vec-gender-bias.html\")\n",
    "jupyter.display(path_html=\"3dTori.html\")"
   ]
  },
  {
   "cell_type": "code",
   "execution_count": 10,
   "id": "6409740f",
   "metadata": {},
   "outputs": [
    {
     "data": {
      "text/html": [
       "<style>\n",
       "        .container { width:100% !important; }\n",
       "        .output_scroll {height: 800px !important;}\n",
       "        </style>"
      ],
      "text/plain": [
       "<IPython.core.display.HTML object>"
      ]
     },
     "metadata": {},
     "output_type": "display_data"
    },
    {
     "data": {
      "text/html": [
       "<iframe src=3dTori.html width=100%% height=800 frameBorder=\"0\"></iframe>"
      ],
      "text/plain": [
       "<IPython.core.display.HTML object>"
      ]
     },
     "metadata": {},
     "output_type": "display_data"
    }
   ],
   "source": [
    "#initiate the mapper object and lens the first two coordinates\n",
    "mapper = km.KeplerMapper(verbose = 0)\n",
    "lens = mapper.fit_transform(toro, projection = [0])\n",
    "\n",
    "\n",
    "# Define the simplicial complex\n",
    "scomplex = mapper.map(lens,\n",
    "                      toro,\n",
    "                      cover=km.Cover(n_cubes=10, perc_overlap=0.5),\n",
    "                      clusterer=sklearn.cluster.KMeans(n_clusters=5,\n",
    "                                                       random_state=3471))\n",
    "\n",
    "# Visualize it\n",
    "html = mapper.visualize(scomplex, path_html=\"3dTori.html\",\n",
    "                 title=\"3dTori\")\n",
    "\n",
    "# Inline display\n",
    "# jupyter.display(path_html=\"http://mlwave.github.io/tda/word2vec-gender-bias.html\")\n",
    "jupyter.display(path_html=\"3dTori.html\")"
   ]
  },
  {
   "cell_type": "code",
   "execution_count": null,
   "id": "32e3e51c",
   "metadata": {},
   "outputs": [],
   "source": []
  }
 ],
 "metadata": {
  "kernelspec": {
   "display_name": "Python 3",
   "language": "python",
   "name": "python3"
  },
  "language_info": {
   "codemirror_mode": {
    "name": "ipython",
    "version": 3
   },
   "file_extension": ".py",
   "mimetype": "text/x-python",
   "name": "python",
   "nbconvert_exporter": "python",
   "pygments_lexer": "ipython3",
   "version": "3.8.8"
  }
 },
 "nbformat": 4,
 "nbformat_minor": 5
}
